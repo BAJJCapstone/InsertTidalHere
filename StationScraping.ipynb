{
 "cells": [
  {
   "cell_type": "code",
   "execution_count": 2,
   "metadata": {
    "collapsed": false
   },
   "outputs": [],
   "source": [
    "from bs4 import BeautifulSoup\n",
    "import urllib.request\n",
    "import json\n",
    "import pandas as pd"
   ]
  },
  {
   "cell_type": "code",
   "execution_count": 6,
   "metadata": {
    "collapsed": false
   },
   "outputs": [],
   "source": [
    "current_stations = pd.read_csv('coops-activecurrentstations.csv')\n",
    "historical_stations = pd.read_csv('coops-historiccurrentstations.csv')\n",
    "\n",
    "station_id_list = []\n",
    "for ID in current_stations['Station ID']:\n",
    "    station_id_list.append(ID)\n",
    "for ID in historical_stations['Station ID']:\n",
    "    station_id_list.append(ID)"
   ]
  },
  {
   "cell_type": "code",
   "execution_count": 42,
   "metadata": {
    "collapsed": false
   },
   "outputs": [
    {
     "name": "stdout",
     "output_type": "stream",
     "text": [
      "2016-10-20 12:50:00\n"
     ]
    }
   ],
   "source": [
    "current_url = \"https://tidesandcurrents.noaa.gov/cdata/StationInfo?id=cb0102\"\n",
    "\n",
    "with urllib.request.urlopen(current_url) as url:\n",
    "    current_html = url.read()\n",
    "\n",
    "soup = BeautifulSoup(current_html, \"html.parser\")\n",
    "# print(soup.prettify())\n",
    "tables = soup.find_all('table')\n",
    "for i, table in enumerate(tables):\n",
    "    headers = table.find_all('thead')\n",
    "    for header in headers:\n",
    "        header_titles = [th.get_text() for th in header.find_all('th')]\n",
    "        desired_titles = ['Deployed', 'Recovered', 'Latitude', 'Longitude']\n",
    "        for header_title, desired_title in zip(header_titles, desired_titles):\n",
    "            if header_title != desired_title:\n",
    "                break\n",
    "        else:\n",
    "            for entry in table.tbody.find_all('tr')[0]:\n",
    "                current_info = [data.get_text for data in entry.find_all('td')]\n",
    "            \n",
    "    "
   ]
  },
  {
   "cell_type": "code",
   "execution_count": null,
   "metadata": {
    "collapsed": true
   },
   "outputs": [],
   "source": []
  }
 ],
 "metadata": {
  "anaconda-cloud": {},
  "kernelspec": {
   "display_name": "Python [conda env:py3]",
   "language": "python",
   "name": "conda-env-py3-py"
  },
  "language_info": {
   "codemirror_mode": {
    "name": "ipython",
    "version": 3
   },
   "file_extension": ".py",
   "mimetype": "text/x-python",
   "name": "python",
   "nbconvert_exporter": "python",
   "pygments_lexer": "ipython3",
   "version": "3.5.2"
  }
 },
 "nbformat": 4,
 "nbformat_minor": 1
}
