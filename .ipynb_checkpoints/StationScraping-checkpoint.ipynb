{
 "cells": [
  {
   "cell_type": "code",
   "execution_count": null,
   "metadata": {
    "collapsed": false
   },
   "outputs": [],
   "source": [
    "from bs4 import BeautifulSoup\n",
    "import urllib.request\n",
    "import json\n",
    "import pandas as pd\n",
    "\n",
    "prefix = 'https://tidesandcurrents.noaa.gov/'\n",
    "\n",
    "station_url = 'https://tidesandcurrents.noaa.gov/stations.html?type=Historic+Water+Levels'\n",
    "with urllib.request.urlopen(station_url) as url:\n",
    "    station_html = url.read()\n",
    "    \n",
    "soup = BeautifulSoup(station_html, \"html.parser\")\n",
    "\n",
    "stations = soup.find_all('div', {'class': lambda L: L and L.startswith('span4 station')}) \n",
    "\n",
    "with open('availableTypes.txt', 'r') as possible_data:\n",
    "    column_list = []\n",
    "    for line in possible_data:\n",
    "        column_list.append(line.strip())   \n",
    "        \n",
    "date_dataframe = pd.DataFrame(columns = column_list)\n",
    "\n",
    "\n",
    "for station in stations:\n",
    "    date_dataframe.loc[station.a.get_text().split()[0]] = 'NULL'\n",
    "    with urllib.request.urlopen(prefix + station.a[\"href\"]) as url: #open individual station \n",
    "        individual_html = url.read()\n",
    "    individual_soup = BeautifulSoup(individual_html, \"html.parser\") # parse the page\n",
    "    table = individual_soup.find_all('tr') #find the table of available data\n",
    "    for table_row in table[1:]: # skip the header\n",
    "        data_type = table_row.find_all('td')[0].get_text().replace(u'\\xa0',u'')\n",
    "        dates_string = '{} - {}'.format(table_row.find_all('td')[1].get_text(), table_row.find_all('td')[2].get_text())\n",
    "        date_dataframe[data_type][station.a.get_text().split()[0]] = dates_string\n",
    "        \n",
    "\n",
    "date_dataframe.to_pickle('dates.pkl')"
   ]
  },
  {
   "cell_type": "code",
   "execution_count": null,
   "metadata": {
    "collapsed": true
   },
   "outputs": [],
   "source": []
  }
 ],
 "metadata": {
  "anaconda-cloud": {},
  "kernelspec": {
   "display_name": "Python [conda env:py3]",
   "language": "python",
   "name": "conda-env-py3-py"
  },
  "language_info": {
   "codemirror_mode": {
    "name": "ipython",
    "version": 3
   },
   "file_extension": ".py",
   "mimetype": "text/x-python",
   "name": "python",
   "nbconvert_exporter": "python",
   "pygments_lexer": "ipython3",
   "version": "3.5.2"
  }
 },
 "nbformat": 4,
 "nbformat_minor": 1
}
