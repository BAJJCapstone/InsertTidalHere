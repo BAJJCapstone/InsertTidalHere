{
 "cells": [
  {
   "cell_type": "code",
   "execution_count": 1,
   "metadata": {
    "collapsed": false
   },
   "outputs": [],
   "source": [
    "import requests\n",
    "import json\n",
    "from pandas.io.json import json_normalize\n",
    "import pandas as pd\n",
    "\n",
    "import re\n",
    "import time\n",
    "from time import strptime\n",
    "import datetime"
   ]
  },
  {
   "cell_type": "markdown",
   "metadata": {},
   "source": [
    "### Investigating currents "
   ]
  },
  {
   "cell_type": "code",
   "execution_count": 2,
   "metadata": {
    "collapsed": false
   },
   "outputs": [],
   "source": [
    "with open('current_station_info.json', 'r') as station_info_file:\n",
    "    currents_station_info = json.load(station_info_file)\n",
    "    \n",
    "with open('current_station_intervals.json', 'r') as station_dates_file:\n",
    "    currents_station_intervals = json.load(station_dates_file)"
   ]
  },
  {
   "cell_type": "code",
   "execution_count": 3,
   "metadata": {
    "collapsed": false
   },
   "outputs": [],
   "source": [
    "def datesToInt(date):\n",
    "    if date == '':\n",
    "        date_string = time.strftime(\"%x\")\n",
    "        now = datetime.datetime.now()\n",
    "        return '{}{:02d}{:02d} 00:00:00'.format(now.year, now.month, now.day) \n",
    "    split_date = re.findall(r\"[\\w']+\", date)\n",
    "    print(split_date)\n",
    "    day = int(split_date[1])\n",
    "    year = int(split_date[2])\n",
    "    month = int(time.strptime(split_date[0],'%b').tm_mon)\n",
    "    time = ':'.join(split_date[-3:])\n",
    "    return '{}{:02d}{:02d} {}'.format(year, month, day, time)"
   ]
  },
  {
   "cell_type": "code",
   "execution_count": 4,
   "metadata": {
    "collapsed": false
   },
   "outputs": [
    {
     "name": "stdout",
     "output_type": "stream",
     "text": [
      "***********Starting with**************: \n",
      " ['May 4, 2007 02:54:00', 'Jun 23, 2007 21:27:00', \"60° 3.546' N\", \"147° 58.454' W\"] \n",
      "\n",
      "['May', '4', '2007', '02', '54', '00']\n"
     ]
    },
    {
     "ename": "UnboundLocalError",
     "evalue": "local variable 'time' referenced before assignment",
     "output_type": "error",
     "traceback": [
      "\u001b[0;31m---------------------------------------------------------------------------\u001b[0m",
      "\u001b[0;31mUnboundLocalError\u001b[0m                         Traceback (most recent call last)",
      "\u001b[0;32m<ipython-input-4-38c4272bf111>\u001b[0m in \u001b[0;36m<module>\u001b[0;34m()\u001b[0m\n\u001b[1;32m     14\u001b[0m         \u001b[0mtmp_list\u001b[0m \u001b[0;34m=\u001b[0m \u001b[0;34m[\u001b[0m\u001b[0;34m]\u001b[0m\u001b[0;34m\u001b[0m\u001b[0m\n\u001b[1;32m     15\u001b[0m         \u001b[0;32mfor\u001b[0m \u001b[0mdate\u001b[0m \u001b[0;32min\u001b[0m \u001b[0mdate_list\u001b[0m\u001b[0;34m[\u001b[0m\u001b[0;34m:\u001b[0m\u001b[0;36m1\u001b[0m\u001b[0;34m]\u001b[0m\u001b[0;34m:\u001b[0m\u001b[0;34m\u001b[0m\u001b[0m\n\u001b[0;32m---> 16\u001b[0;31m             \u001b[0mtmp_list\u001b[0m\u001b[0;34m.\u001b[0m\u001b[0mappend\u001b[0m\u001b[0;34m(\u001b[0m\u001b[0mdatesToInt\u001b[0m\u001b[0;34m(\u001b[0m\u001b[0mdate\u001b[0m\u001b[0;34m)\u001b[0m\u001b[0;34m)\u001b[0m\u001b[0;34m\u001b[0m\u001b[0m\n\u001b[0m\u001b[1;32m     17\u001b[0m         \u001b[0mtmp_list\u001b[0m \u001b[0;34m=\u001b[0m \u001b[0mtmp_list\u001b[0m \u001b[0;34m+\u001b[0m \u001b[0mdate_list\u001b[0m\u001b[0;34m[\u001b[0m\u001b[0;36m2\u001b[0m\u001b[0;34m:\u001b[0m\u001b[0;34m]\u001b[0m\u001b[0;34m\u001b[0m\u001b[0m\n\u001b[1;32m     18\u001b[0m         \u001b[0mcurrents_station_info\u001b[0m\u001b[0;34m[\u001b[0m\u001b[0mkey\u001b[0m\u001b[0;34m]\u001b[0m \u001b[0;34m=\u001b[0m \u001b[0mtmp_list\u001b[0m\u001b[0;34m\u001b[0m\u001b[0m\n",
      "\u001b[0;32m<ipython-input-3-07bc5a6bdc23>\u001b[0m in \u001b[0;36mdatesToInt\u001b[0;34m(date)\u001b[0m\n\u001b[1;32m      8\u001b[0m     \u001b[0mday\u001b[0m \u001b[0;34m=\u001b[0m \u001b[0mint\u001b[0m\u001b[0;34m(\u001b[0m\u001b[0msplit_date\u001b[0m\u001b[0;34m[\u001b[0m\u001b[0;36m1\u001b[0m\u001b[0;34m]\u001b[0m\u001b[0;34m)\u001b[0m\u001b[0;34m\u001b[0m\u001b[0m\n\u001b[1;32m      9\u001b[0m     \u001b[0myear\u001b[0m \u001b[0;34m=\u001b[0m \u001b[0mint\u001b[0m\u001b[0;34m(\u001b[0m\u001b[0msplit_date\u001b[0m\u001b[0;34m[\u001b[0m\u001b[0;36m2\u001b[0m\u001b[0;34m]\u001b[0m\u001b[0;34m)\u001b[0m\u001b[0;34m\u001b[0m\u001b[0m\n\u001b[0;32m---> 10\u001b[0;31m     \u001b[0mmonth\u001b[0m \u001b[0;34m=\u001b[0m \u001b[0mint\u001b[0m\u001b[0;34m(\u001b[0m\u001b[0mtime\u001b[0m\u001b[0;34m.\u001b[0m\u001b[0mstrptime\u001b[0m\u001b[0;34m(\u001b[0m\u001b[0msplit_date\u001b[0m\u001b[0;34m[\u001b[0m\u001b[0;36m0\u001b[0m\u001b[0;34m]\u001b[0m\u001b[0;34m,\u001b[0m\u001b[0;34m'%b'\u001b[0m\u001b[0;34m)\u001b[0m\u001b[0;34m.\u001b[0m\u001b[0mtm_mon\u001b[0m\u001b[0;34m)\u001b[0m\u001b[0;34m\u001b[0m\u001b[0m\n\u001b[0m\u001b[1;32m     11\u001b[0m     \u001b[0mtime\u001b[0m \u001b[0;34m=\u001b[0m \u001b[0;34m':'\u001b[0m\u001b[0;34m.\u001b[0m\u001b[0mjoin\u001b[0m\u001b[0;34m(\u001b[0m\u001b[0msplit_date\u001b[0m\u001b[0;34m[\u001b[0m\u001b[0;34m-\u001b[0m\u001b[0;36m3\u001b[0m\u001b[0;34m:\u001b[0m\u001b[0;34m]\u001b[0m\u001b[0;34m)\u001b[0m\u001b[0;34m\u001b[0m\u001b[0m\n\u001b[1;32m     12\u001b[0m     \u001b[0;32mreturn\u001b[0m \u001b[0;34m'{}{:02d}{:02d} {}'\u001b[0m\u001b[0;34m.\u001b[0m\u001b[0mformat\u001b[0m\u001b[0;34m(\u001b[0m\u001b[0myear\u001b[0m\u001b[0;34m,\u001b[0m \u001b[0mmonth\u001b[0m\u001b[0;34m,\u001b[0m \u001b[0mday\u001b[0m\u001b[0;34m,\u001b[0m \u001b[0mtime\u001b[0m\u001b[0;34m)\u001b[0m\u001b[0;34m\u001b[0m\u001b[0m\n",
      "\u001b[0;31mUnboundLocalError\u001b[0m: local variable 'time' referenced before assignment"
     ]
    }
   ],
   "source": [
    "for key, date_list in currents_station_info.items():\n",
    "    print('***********Starting with**************: \\n {} \\n'.format(date_list))\n",
    "    if any(isinstance(el, list) for el in date_list):\n",
    "        for i, date in enumerate(date_list):\n",
    "            print('1.{}'.format(date))\n",
    "            currents_station_info[key][i] = [element.replace('-','') for element in date]\n",
    "            print('2.{}'.format(currents_station_info[key][i]))\n",
    "            if date[1] == '':\n",
    "                date_string = time.strftime(\"%x\")\n",
    "                now = datetime.datetime.now()\n",
    "                currents_station_info[key][0][1] = '{}{:02d}{:02d} 00:00:00'.format(now.year, now.month, now.day)      \n",
    "                \n",
    "    else:\n",
    "        tmp_list = []\n",
    "        for date in date_list[:1]:\n",
    "            tmp_list.append(datesToInt(date))\n",
    "        tmp_list = tmp_list + date_list[2:]\n",
    "        currents_station_info[key] = tmp_list\n",
    "    \n",
    "    print('New Dictionary Entry:{}'.format(currents_station_info[key]))\n",
    "    print('\\n\\n\\n ***NEXT*** \\n\\n\\n')"
   ]
  },
  {
   "cell_type": "code",
   "execution_count": null,
   "metadata": {
    "collapsed": false
   },
   "outputs": [],
   "source": [
    "def retrieveLifetimeData(pandas_thing):\n",
    "    date_range_string = pandas_thing['dates']\n",
    "    station_id = pandas_thing['ID']\n",
    "\n",
    "    dates = date_range_string.split('-')\n",
    "    assert dates[0] != ''\n",
    "    year, month, day = datesToInt(dates[0])\n",
    "\n",
    "    end_year, end_month, end_day = datesToInt(dates[1])\n",
    "    this_is_silly = end_year*10000+end_month*100+end_day\n",
    "\n",
    "    first_loop = True\n",
    "    while 1:\n",
    "        end_loop = False\n",
    "        \n",
    "        if month == 12:\n",
    "            next_year += 1\n",
    "            next_month = 1\n",
    "            next_day = day\n",
    "        else:\n",
    "            next_year = year\n",
    "            next_month = month\n",
    "            next_day = day\n",
    "        if next_year*10000+next_month*100+end_day < this_is_silly:\n",
    "            next_year = end_year\n",
    "            next_day = end_day\n",
    "            next_month = end_month\n",
    "            \n",
    "            \n",
    "        print('{:02d}/{:02d}/{}'.format(month, day, year))\n",
    "        print('{:02d}/{:02d}/{}'.format(next_month, day, next_year))\n",
    "        url = 'https://tidesandcurrents.noaa.gov/api/datagetter?'\n",
    "        params = {\n",
    "            'begin_date': '{:02d}/{:02d}/{}'.format(month, day, year),\n",
    "            'end_date':'{:02d}/{:02d}/{}'.format(next_month, day, year),\n",
    "            'station':station_id,\n",
    "            'product':'water_level',\n",
    "            'datum':'mllw',\n",
    "            'units':'metric',\n",
    "            'time_zone':'gmt',\n",
    "            'application':'web_services',\n",
    "            'format':'json'    \n",
    "        }\n",
    "\n",
    "            \n",
    "        resp = requests.get(url=url, params=params)\n",
    "        if first_loop:\n",
    "            try:\n",
    "                \n",
    "                metadata_dict = resp.json()['metadata']\n",
    "                pd_data = pd.DataFrame(resp.json()['data'])\n",
    "            except KeyError:\n",
    "                print(resp.json()['error'])\n",
    "                return None, None\n",
    "            \n",
    "        pd_data.append(resp.json()['data'])\n",
    "        \n",
    "        month += 1\n",
    "        if end_loop:\n",
    "            return metadata_dict, pd_data"
   ]
  },
  {
   "cell_type": "code",
   "execution_count": null,
   "metadata": {
    "collapsed": false
   },
   "outputs": [],
   "source": [
    "def retrieveRecentData(pandas_thing):\n",
    "    station_id = pandas_thing['Station ID']\n",
    "\n",
    "    url = 'https://tidesandcurrents.noaa.gov/api/datagetter?'\n",
    "    params = {\n",
    "        'date':'recent',\n",
    "        'station':station_id,\n",
    "        'product':'currents',\n",
    "        'bin':'1',\n",
    "        'units':'metric',\n",
    "        'time_zone':'gmt',\n",
    "        'application':'web_services',\n",
    "        'format':'json'    \n",
    "    }\n",
    "    resp = requests.get(url=url, params=params)\n",
    "    try:\n",
    "\n",
    "        metadata_dict = resp.json()['metadata']\n",
    "        pd_data = pd.DataFrame(resp.json()['data'])\n",
    "        return metadata_dict, pd_data    \n",
    "    \n",
    "    except KeyError:\n",
    "        print(resp.json()['error'])\n",
    "        return None, None\n",
    "\n"
   ]
  },
  {
   "cell_type": "code",
   "execution_count": null,
   "metadata": {
    "collapsed": true
   },
   "outputs": [],
   "source": [
    "url = 'https://tidesandcurrents.noaa.gov/api/datagetter?'\n",
    "params = {\n",
    "    'date':'recent',\n",
    "    'station':station_id,\n",
    "    'product':'currents',\n",
    "    'bin':'1',\n",
    "    'units':'metric',\n",
    "    'time_zone':'gmt',\n",
    "    'application':'web_services',\n",
    "    'format':'json'    \n",
    "}\n",
    "resp = requests.get(url=url, params=params)\n",
    "try:\n",
    "\n",
    "    metadata_dict = resp.json()['metadata']\n",
    "    pd_data = pd.DataFrame(resp.json()['data'])\n",
    "    return metadata_dict, pd_data    \n",
    "\n",
    "except KeyError:\n",
    "    print(resp.json()['error'])\n",
    "    return None, None\n",
    "\n"
   ]
  },
  {
   "cell_type": "code",
   "execution_count": null,
   "metadata": {
    "collapsed": false,
    "scrolled": false
   },
   "outputs": [],
   "source": [
    "for index, row in current_stations.iterrows():\n",
    "    metadata_dict, pd_data = retrieveRecentData(row)\n",
    "    if metadata_dict is not None:\n",
    "        break\n",
    "    "
   ]
  },
  {
   "cell_type": "code",
   "execution_count": null,
   "metadata": {
    "collapsed": false
   },
   "outputs": [],
   "source": [
    "with open('token.json') as token_file:\n",
    "    header = json.load(token_file)"
   ]
  },
  {
   "cell_type": "code",
   "execution_count": null,
   "metadata": {
    "collapsed": false
   },
   "outputs": [],
   "source": [
    "try:\n",
    "    pd_metadata = json_normalize(resp.json()['metadata'])\n",
    "    pd_metadata.columns = ['Station ID', 'Latitude', 'Longitude', 'Location']\n",
    "    pd_data = json_normalize(resp.json()['data'])\n",
    "    \n",
    "except KeyError:\n",
    "    print(resp.json()['error'])"
   ]
  },
  {
   "cell_type": "code",
   "execution_count": null,
   "metadata": {
    "collapsed": false
   },
   "outputs": [],
   "source": [
    "# API for Climate Data\n",
    "\n",
    "url = 'http://www.ncdc.noaa.gov/cdo-web/api/v2/datatypes?datacategoryid=HYDROMETEOR'\n",
    "\n",
    "resp = requests.get(url=url, headers=header)\n",
    "\n",
    "try:\n",
    "    pd_metadata = json_normalize(resp.json()['metadata'])\n",
    "#     pd_metadata.columns = ['Station ID', 'Latitude', 'Longitude', 'Location']\n",
    "    pd_results = json_normalize(resp.json()['results'])\n",
    "    \n",
    "except KeyError:\n",
    "    print(resp.json()['error'])\n",
    "    print('Error in the api input')"
   ]
  },
  {
   "cell_type": "code",
   "execution_count": null,
   "metadata": {
    "collapsed": false
   },
   "outputs": [],
   "source": [
    "url = 'http://www.ncdc.noaa.gov/cdo-web/api/v2/datacategories?limit=41'\n",
    "resp = requests.get(url=url, headers=header)\n",
    "\n",
    "try:\n",
    "    pd_metadata = json_normalize(resp.json()['metadata'])\n",
    "    # pd_metadata.columns = ['Station ID', 'Latitude', 'Longitude', 'Location']\n",
    "    pd_results = json_normalize(resp.json()['results'])\n",
    "    \n",
    "except KeyError:\n",
    "    print(resp.json()['error'])\n",
    "    print('Error in the api input')"
   ]
  }
 ],
 "metadata": {
  "anaconda-cloud": {},
  "kernelspec": {
   "display_name": "Python [conda env:py3]",
   "language": "python",
   "name": "conda-env-py3-py"
  },
  "language_info": {
   "codemirror_mode": {
    "name": "ipython",
    "version": 3
   },
   "file_extension": ".py",
   "mimetype": "text/x-python",
   "name": "python",
   "nbconvert_exporter": "python",
   "pygments_lexer": "ipython3",
   "version": "3.5.2"
  }
 },
 "nbformat": 4,
 "nbformat_minor": 1
}
