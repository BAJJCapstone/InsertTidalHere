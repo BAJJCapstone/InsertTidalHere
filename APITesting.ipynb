{
 "cells": [
  {
   "cell_type": "code",
   "execution_count": 10,
   "metadata": {
    "collapsed": false
   },
   "outputs": [],
   "source": [
    "import requests\n",
    "import json\n",
    "from pandas.io.json import json_normalize\n",
    "import pandas as pd\n",
    "\n",
    "import re\n",
    "import time\n",
    "from time import strptime\n",
    "import datetime"
   ]
  },
  {
   "cell_type": "markdown",
   "metadata": {},
   "source": [
    "### Investigating currents "
   ]
  },
  {
   "cell_type": "code",
   "execution_count": 11,
   "metadata": {
    "collapsed": false
   },
   "outputs": [],
   "source": [
    "with open('current_station_info.json', 'r') as station_info_file:\n",
    "    currents_station_info = json.load(station_info_file)\n",
    "    \n",
    "with open('current_station_intervals.json', 'r') as station_dates_file:\n",
    "    currents_station_intervals = json.load(station_dates_file)\n",
    "    \n",
    "    "
   ]
  },
  {
   "cell_type": "code",
   "execution_count": 12,
   "metadata": {
    "collapsed": false
   },
   "outputs": [],
   "source": [
    "for key, date_list in currents_station_info.items():\n",
    "    if any(isinstance(el, list) for el in date_list):\n",
    "        for i, dates in enumerate(date_list):\n",
    "            for j, date in enumerate(dates[:1]):\n",
    "                if date[1] == '':\n",
    "                    currents_station_info[key][0][1] = datetime.datetime.now()\n",
    "                    continue\n",
    "                split_date = re.findall(r\"[\\w']+\", date)\n",
    "                currents_station_info[key][i][j] = datetime.datetime(year = int(split_date[0]), \n",
    "                                month = int(split_date[1]),\n",
    "                                day = int(split_date[2]), \n",
    "                                hour = int(split_date[3]), \n",
    "                                minute = int(split_date[4]),\n",
    "                                second = int(split_date[5]))   \n",
    "    else:\n",
    "        for_consistency = []\n",
    "        tmp_list = []\n",
    "        for date in date_list[:1]:\n",
    "            split_date = re.findall(r\"[\\w']+\", date)\n",
    "            tmp_list.append(datetime.datetime(year = int(split_date[2]), \n",
    "                            month = int(strptime(split_date[0],'%b').tm_mon),\n",
    "                            day = int(split_date[1]), \n",
    "                            hour = int(split_date[3]),\n",
    "                            minute = int(split_date[4]),\n",
    "                            second = int(split_date[5])))\n",
    "        \n",
    "        tmp_list = tmp_list + date_list[2:]\n",
    "        currents_station_info[key] = for_consistency.append(tmp_list) #put the list inside of another list\n"
   ]
  },
  {
   "cell_type": "code",
   "execution_count": null,
   "metadata": {
    "collapsed": false
   },
   "outputs": [],
   "source": [
    "def retrieveLifetimeData(station_id, date_lists):\n",
    "    for date_list in date_lists:\n",
    "        begin_date = date_list[0]\n",
    "        end_date = date_list[1]\n",
    "        date = begin_date\n",
    "        month = datetime.timedelta(month=1)\n",
    "        first_loop = True\n",
    "        while 1:\n",
    "            end_loop = False\n",
    "            next_date = date + month\n",
    "            url = 'https://tidesandcurrents.noaa.gov/api/datagetter?'\n",
    "            params = {\n",
    "                'begin_date': '{:02d}/{:02d}/{} {:02d}:{:02d}:{:02d}'.format(date.month, date.day, date.year, date.hour, date.minute, date.second),\n",
    "                'end_date':'{:02d}/{:02d}/{} {:02d}:{:02d}:{:02d}'.format(next_date.month, next_date.day, next_date.year, next_date.hour, next_date.minute, next_date.second),\n",
    "                'station':station_id,\n",
    "                'product':'currents',\n",
    "                'units':'metric',\n",
    "                'time_zone':'gmt',\n",
    "                'application':'web_services',\n",
    "                'format':'json'    \n",
    "            }\n",
    "            for i in range(1,10):\n",
    "                print(i)\n",
    "                params['bin'] = i\n",
    "                resp = requests.get(url=url, params=params)\n",
    "                if first_loop:\n",
    "                    try:\n",
    "                        metadata_dict = resp.json()['metadata']\n",
    "                        pd_data = pd.DataFrame(resp.json()['data'])\n",
    "                    except KeyError:\n",
    "                        print(resp.json()['error'])\n",
    "                        return None, None\n",
    "\n",
    "            pd_data.merge(resp.json()['data'])\n",
    "        \n",
    "        month += 1\n",
    "        if end_loop:\n",
    "            return metadata_dict, pd_data"
   ]
  }
 ],
 "metadata": {
  "anaconda-cloud": {},
  "kernelspec": {
   "display_name": "Python [conda env:py3]",
   "language": "python",
   "name": "conda-env-py3-py"
  },
  "language_info": {
   "codemirror_mode": {
    "name": "ipython",
    "version": 3
   },
   "file_extension": ".py",
   "mimetype": "text/x-python",
   "name": "python",
   "nbconvert_exporter": "python",
   "pygments_lexer": "ipython3",
   "version": "3.5.2"
  }
 },
 "nbformat": 4,
 "nbformat_minor": 1
}
