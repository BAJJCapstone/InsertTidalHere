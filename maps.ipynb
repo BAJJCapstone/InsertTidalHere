{
 "cells": [
  {
   "cell_type": "code",
   "execution_count": 4,
   "metadata": {
    "collapsed": false
   },
   "outputs": [],
   "source": [
    "import json\n",
    "with open('current_station_info.json', 'r') as station_info_file:\n",
    "    currents_station_info = json.load(station_info_file)"
   ]
  },
  {
   "cell_type": "code",
   "execution_count": 5,
   "metadata": {
    "collapsed": false
   },
   "outputs": [],
   "source": [
    "import re\n",
    "\n",
    "latitude = []\n",
    "longitude = []\n",
    "stations = []\n",
    "for key, date_list in currents_station_info.items():\n",
    "    if any(isinstance(el, list) for el in date_list):\n",
    "        stations.append(key)\n",
    "        latitude.append(date_list[0][2])\n",
    "        longitude.append(date_list[0][3])\n",
    "    else:\n",
    "        stations.append(key)\n",
    "        latitude.append(date_list[2])\n",
    "        longitude.append(date_list[3])       \n",
    "\n",
    "def convert(tude):\n",
    "    multiplier = 1 if tude[-1] in ['N', 'E'] else -1\n",
    "    return multiplier * sum(float(x) / 60 ** n for n, x in enumerate(tude[:-3].split('° ')))\n",
    "        \n",
    "dec_latitude = [convert(string) for string in latitude]\n",
    "dec_longitude = [convert(string) for string in longitude]\n"
   ]
  },
  {
   "cell_type": "code",
   "execution_count": 53,
   "metadata": {
    "collapsed": false
   },
   "outputs": [],
   "source": [
    "import json\n",
    "from bs4 import BeautifulSoup\n",
    "import urllib.request\n",
    "\n",
    "with open('station_info.json', 'r') as station_info_file:\n",
    "    tidal_station_info = json.load(station_info_file)\n",
    "\n",
    "    \n",
    "def retrieveLocationData(station_id):\n",
    "\n",
    "    station_url = 'https://tidesandcurrents.noaa.gov/stationhome.html?id={}'.format(station_id)\n",
    "    with urllib.request.urlopen(station_url) as url:\n",
    "        station_html = url.read()\n",
    "\n",
    "    soup = BeautifulSoup(station_html, \"html.parser\")\n",
    "    table = soup.find_all('tr') #find the table of available data\n",
    "    got_latitude = False\n",
    "    got_longitude = False\n",
    "    try:\n",
    "        for table_row in table: # skip the header\n",
    "            data_type = table_row.find_all('td')[0].get_text()\n",
    "            if 'Latitude' in data_type: \n",
    "                latitude = table_row.find_all('td')[1].get_text()\n",
    "                got_latitude = True\n",
    "            if 'Longitude' in data_type: \n",
    "                longitude = table_row.find_all('td')[1].get_text()\n",
    "                got_longitude = True\n",
    "            if got_longitude and got_latitude:\n",
    "                return latitude, longitude\n",
    "    except:\n",
    "        return None\n",
    "    \n",
    "location_dictionary = {}\n",
    "for key, station_id in tidal_station_info['ID'].items():\n",
    "    location_tuple = retrieveLocationData(station_id)\n",
    "    if location_tuple:\n",
    "        location_dictionary[key] = location_tuple\n",
    "    else:\n",
    "        print('Unable to find {}:{}'.format(key, station_id))\n",
    "        \n",
    "with open(\"tidal_location_dictionary.json\", \"w\") as writeJSON:\n",
    "    json.dump(location_dictionary, writeJSON)"
   ]
  },
  {
   "cell_type": "code",
   "execution_count": 6,
   "metadata": {
    "collapsed": false
   },
   "outputs": [],
   "source": [
    "import json\n",
    "\n",
    "with open(\"tidal_location_dictionary.json\", \"r\") as readJSON:\n",
    "    location_dictionary = json.load(readJSON)\n",
    "\n",
    "tidal_longitude = []\n",
    "tidal_latitude = []\n",
    "\n",
    "for key, loc_tuple in location_dictionary.items():\n",
    "    tidal_latitude.append(convert(loc_tuple[0]))\n",
    "    tidal_longitude.append(convert(loc_tuple[1]))\n"
   ]
  },
  {
   "cell_type": "code",
   "execution_count": 28,
   "metadata": {
    "collapsed": false
   },
   "outputs": [
    {
     "data": {
      "text/html": [
       "<iframe id=\"igraph\" scrolling=\"no\" style=\"border:none;\" seamless=\"seamless\" src=\"https://plot.ly/~cainjason/2.embed\" height=\"525px\" width=\"100%\"></iframe>"
      ],
      "text/plain": [
       "<plotly.tools.PlotlyDisplay object>"
      ]
     },
     "execution_count": 28,
     "metadata": {},
     "output_type": "execute_result"
    }
   ],
   "source": [
    "import plotly.plotly as py\n",
    "import pandas as pd\n",
    "\n",
    "scl = [ [0,\"rgb(5, 10, 172)\"],[0.35,\"rgb(40, 60, 190)\"],[0.5,\"rgb(70, 100, 245)\"],\\\n",
    "    [0.6,\"rgb(90, 120, 245)\"],[0.7,\"rgb(106, 137, 247)\"],[1,\"rgb(220, 220, 220)\"] ]\n",
    "\n",
    "data = [dict(\n",
    "        type = 'scattergeo',\n",
    "        name = 'Tidal Measurement Stations',\n",
    "        locationmode = 'USA-states',\n",
    "        lon = tidal_longitude,\n",
    "        lat = tidal_latitude,\n",
    "        text = stations,\n",
    "        mode = 'markers'),\n",
    "        dict(\n",
    "        type = 'scattergeo',\n",
    "        name = 'Current Measurement Stations',\n",
    "        locationmode = 'USA-states',\n",
    "        lon = dec_longitude,\n",
    "        lat = dec_latitude,\n",
    "        text = stations,\n",
    "        mode = 'markers',\n",
    "        marker = dict(symbol = 'square'))\n",
    "        ]\n",
    "\n",
    "layout = dict(\n",
    "        title = 'Available NOAA Stations<br>Tidal and Currents',\n",
    "        titlefont = dict(\n",
    "            size = 26,\n",
    "            color = 'rgb(52, 165, 218)'),\n",
    "        paper_bgcolor='transparent',\n",
    "        plot_bgcolor='transparent',\n",
    "        legend = dict(\n",
    "        orientation = 'h',\n",
    "        xanchor = 'center',\n",
    "        x=0.5,\n",
    "        font = dict(\n",
    "        size = '20',\n",
    "        color = 'rgb(52, 165, 218)')),\n",
    "        geo = dict(\n",
    "            scope='usa',\n",
    "            showland = True,\n",
    "            landcolor = \"transparent\",\n",
    "            subunitcolor = \"rgb(52, 165, 218)\",\n",
    "            countrycolor = \"rgb(52, 165, 218)\",\n",
    "            bgcolor = 'transparent',\n",
    "            countrywidth = 0.5,\n",
    "            subunitwidth = 0.5        \n",
    "        ),\n",
    "    )\n",
    "\n",
    "fig = dict( data=data, layout=layout )\n",
    "py.iplot( fig, validate=False, filename='coopsstations' )"
   ]
  },
  {
   "cell_type": "code",
   "execution_count": null,
   "metadata": {
    "collapsed": true
   },
   "outputs": [],
   "source": []
  }
 ],
 "metadata": {
  "anaconda-cloud": {},
  "kernelspec": {
   "display_name": "Python [conda env:py3]",
   "language": "python",
   "name": "conda-env-py3-py"
  },
  "language_info": {
   "codemirror_mode": {
    "name": "ipython",
    "version": 3
   },
   "file_extension": ".py",
   "mimetype": "text/x-python",
   "name": "python",
   "nbconvert_exporter": "python",
   "pygments_lexer": "ipython3",
   "version": "3.5.2"
  }
 },
 "nbformat": 4,
 "nbformat_minor": 1
}
